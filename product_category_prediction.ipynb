{
 "cells": [
  {
   "cell_type": "markdown",
   "id": "120565ab",
   "metadata": {},
   "source": [
    "# Sarcina 3 – Predicția categoriei produsului pe baza titlului\n",
    "\n",
    "Acest notebook prezintă pașii realizați pentru antrenarea unui model de clasificare\n",
    "care prezice categoria unui produs pe baza titlului său, folosind setul de date `IMLP4_TASK_03-products.csv`.\n"
   ]
  },
  {
   "cell_type": "code",
   "execution_count": 1,
   "id": "6ec3130d",
   "metadata": {},
   "outputs": [],
   "source": [
    "import pandas as pd\n",
    "import numpy as np\n",
    "from sklearn.model_selection import train_test_split\n",
    "from sklearn.feature_extraction.text import TfidfVectorizer\n",
    "from sklearn.naive_bayes import MultinomialNB\n",
    "from sklearn.metrics import classification_report, accuracy_score, confusion_matrix\n",
    "import pickle\n"
   ]
  },
  {
   "cell_type": "code",
   "execution_count": 2,
   "id": "9b9c7fac",
   "metadata": {},
   "outputs": [
    {
     "data": {
      "text/html": [
       "<div>\n",
       "<style scoped>\n",
       "    .dataframe tbody tr th:only-of-type {\n",
       "        vertical-align: middle;\n",
       "    }\n",
       "\n",
       "    .dataframe tbody tr th {\n",
       "        vertical-align: top;\n",
       "    }\n",
       "\n",
       "    .dataframe thead th {\n",
       "        text-align: right;\n",
       "    }\n",
       "</style>\n",
       "<table border=\"1\" class=\"dataframe\">\n",
       "  <thead>\n",
       "    <tr style=\"text-align: right;\">\n",
       "      <th></th>\n",
       "      <th>product ID</th>\n",
       "      <th>Product Title</th>\n",
       "      <th>Merchant ID</th>\n",
       "      <th>Category Label</th>\n",
       "      <th>_Product Code</th>\n",
       "      <th>Number_of_Views</th>\n",
       "      <th>Merchant Rating</th>\n",
       "      <th>Listing Date</th>\n",
       "    </tr>\n",
       "  </thead>\n",
       "  <tbody>\n",
       "    <tr>\n",
       "      <th>0</th>\n",
       "      <td>1</td>\n",
       "      <td>apple iphone 8 plus 64gb silver</td>\n",
       "      <td>1</td>\n",
       "      <td>Mobile Phones</td>\n",
       "      <td>QA-2276-XC</td>\n",
       "      <td>860.0</td>\n",
       "      <td>2.5</td>\n",
       "      <td>5/10/2024</td>\n",
       "    </tr>\n",
       "    <tr>\n",
       "      <th>1</th>\n",
       "      <td>2</td>\n",
       "      <td>apple iphone 8 plus 64 gb spacegrau</td>\n",
       "      <td>2</td>\n",
       "      <td>Mobile Phones</td>\n",
       "      <td>KA-2501-QO</td>\n",
       "      <td>3772.0</td>\n",
       "      <td>4.8</td>\n",
       "      <td>12/31/2024</td>\n",
       "    </tr>\n",
       "    <tr>\n",
       "      <th>2</th>\n",
       "      <td>3</td>\n",
       "      <td>apple mq8n2b/a iphone 8 plus 64gb 5.5 12mp sim...</td>\n",
       "      <td>3</td>\n",
       "      <td>Mobile Phones</td>\n",
       "      <td>FP-8086-IE</td>\n",
       "      <td>3092.0</td>\n",
       "      <td>3.9</td>\n",
       "      <td>11/10/2024</td>\n",
       "    </tr>\n",
       "    <tr>\n",
       "      <th>3</th>\n",
       "      <td>4</td>\n",
       "      <td>apple iphone 8 plus 64gb space grey</td>\n",
       "      <td>4</td>\n",
       "      <td>Mobile Phones</td>\n",
       "      <td>YI-0086-US</td>\n",
       "      <td>466.0</td>\n",
       "      <td>3.4</td>\n",
       "      <td>5/2/2022</td>\n",
       "    </tr>\n",
       "    <tr>\n",
       "      <th>4</th>\n",
       "      <td>5</td>\n",
       "      <td>apple iphone 8 plus gold 5.5 64gb 4g unlocked ...</td>\n",
       "      <td>5</td>\n",
       "      <td>Mobile Phones</td>\n",
       "      <td>NZ-3586-WP</td>\n",
       "      <td>4426.0</td>\n",
       "      <td>1.6</td>\n",
       "      <td>4/12/2023</td>\n",
       "    </tr>\n",
       "  </tbody>\n",
       "</table>\n",
       "</div>"
      ],
      "text/plain": [
       "   product ID                                      Product Title  Merchant ID  \\\n",
       "0           1                    apple iphone 8 plus 64gb silver            1   \n",
       "1           2                apple iphone 8 plus 64 gb spacegrau            2   \n",
       "2           3  apple mq8n2b/a iphone 8 plus 64gb 5.5 12mp sim...            3   \n",
       "3           4                apple iphone 8 plus 64gb space grey            4   \n",
       "4           5  apple iphone 8 plus gold 5.5 64gb 4g unlocked ...            5   \n",
       "\n",
       "   Category Label _Product Code  Number_of_Views  Merchant Rating  \\\n",
       "0   Mobile Phones    QA-2276-XC            860.0              2.5   \n",
       "1   Mobile Phones    KA-2501-QO           3772.0              4.8   \n",
       "2   Mobile Phones    FP-8086-IE           3092.0              3.9   \n",
       "3   Mobile Phones    YI-0086-US            466.0              3.4   \n",
       "4   Mobile Phones    NZ-3586-WP           4426.0              1.6   \n",
       "\n",
       "   Listing Date    \n",
       "0       5/10/2024  \n",
       "1      12/31/2024  \n",
       "2      11/10/2024  \n",
       "3        5/2/2022  \n",
       "4       4/12/2023  "
      ]
     },
     "execution_count": 2,
     "metadata": {},
     "output_type": "execute_result"
    }
   ],
   "source": [
    "# Citește fișierul CSV (ajustează calea dacă e nevoie)\n",
    "data = pd.read_csv(\"IMLP4_TASK_03-products.csv\")\n",
    "\n",
    "# Afișează primele rânduri\n",
    "data.head()\n"
   ]
  },
  {
   "cell_type": "code",
   "execution_count": 4,
   "id": "a34657a5",
   "metadata": {},
   "outputs": [
    {
     "name": "stdout",
     "output_type": "stream",
     "text": [
      "Index(['product ID', 'Product Title', 'Merchant ID', 'Category Label',\n",
      "       '_Product Code', 'Number_of_Views', 'Merchant Rating', 'Listing Date'],\n",
      "      dtype='object')\n",
      "<class 'pandas.core.frame.DataFrame'>\n",
      "RangeIndex: 35311 entries, 0 to 35310\n",
      "Data columns (total 8 columns):\n",
      " #   Column           Non-Null Count  Dtype  \n",
      "---  ------           --------------  -----  \n",
      " 0   product ID       35311 non-null  int64  \n",
      " 1   Product Title    35139 non-null  object \n",
      " 2   Merchant ID      35311 non-null  int64  \n",
      " 3   Category Label   35267 non-null  object \n",
      " 4   _Product Code    35216 non-null  object \n",
      " 5   Number_of_Views  35297 non-null  float64\n",
      " 6   Merchant Rating  35141 non-null  float64\n",
      " 7   Listing Date     35252 non-null  object \n",
      "dtypes: float64(2), int64(2), object(4)\n",
      "memory usage: 2.2+ MB\n",
      "None\n",
      "Category Label\n",
      "Fridge Freezers     5495\n",
      "Washing Machines    4036\n",
      "Mobile Phones       4020\n",
      "CPUs                3771\n",
      "TVs                 3564\n",
      "Fridges             3457\n",
      "Dishwashers         3418\n",
      "Digital Cameras     2696\n",
      "Microwaves          2338\n",
      "Freezers            2210\n",
      "Name: count, dtype: int64\n"
     ]
    }
   ],
   "source": [
    "# Curăță spațiile din numele coloanelor\n",
    "data.columns = data.columns.str.strip()\n",
    "\n",
    "# Verifică dacă numele sunt corecte\n",
    "print(data.columns)\n",
    "\n",
    "# Acum funcționează fără eroare\n",
    "print(data.info())\n",
    "print(data[\"Category Label\"].value_counts().head(10))\n"
   ]
  },
  {
   "cell_type": "code",
   "execution_count": 5,
   "id": "02e4b2b5",
   "metadata": {},
   "outputs": [],
   "source": [
    "# Păstrăm doar coloanele relevante\n",
    "df = data[[\"Product Title\", \"Category Label\"]].dropna()\n",
    "\n",
    "# Separăm datele de antrenament și test\n",
    "X_train, X_test, y_train, y_test = train_test_split(\n",
    "    df[\"Product Title\"], df[\"Category Label\"], test_size=0.2, random_state=42\n",
    ")\n",
    "\n",
    "# Vectorizare TF-IDF\n",
    "vectorizer = TfidfVectorizer(stop_words=\"english\", lowercase=True)\n",
    "X_train_tfidf = vectorizer.fit_transform(X_train)\n",
    "X_test_tfidf = vectorizer.transform(X_test)\n"
   ]
  },
  {
   "cell_type": "code",
   "execution_count": 6,
   "id": "3c12d6cf",
   "metadata": {},
   "outputs": [],
   "source": [
    "model = MultinomialNB()\n",
    "model.fit(X_train_tfidf, y_train)\n",
    "\n",
    "# Salvare model și vectorizator\n",
    "pickle.dump(model, open(\"product_model.pkl\", \"wb\"))\n",
    "pickle.dump(vectorizer, open(\"vectorizer.pkl\", \"wb\"))\n"
   ]
  },
  {
   "cell_type": "code",
   "execution_count": 7,
   "id": "14084a67",
   "metadata": {},
   "outputs": [
    {
     "name": "stdout",
     "output_type": "stream",
     "text": [
      "Accuracy: 0.9303418803418804\n",
      "\n",
      "Raport de clasificare:\n",
      "                  precision    recall  f1-score   support\n",
      "\n",
      "             CPU       0.00      0.00      0.00        14\n",
      "            CPUs       0.98      1.00      0.99       726\n",
      " Digital Cameras       0.99      1.00      0.99       535\n",
      "     Dishwashers       0.99      0.96      0.97       684\n",
      "        Freezers       1.00      0.52      0.68       422\n",
      " Fridge Freezers       0.76      0.98      0.86      1087\n",
      "         Fridges       0.89      0.82      0.85       702\n",
      "      Microwaves       0.99      0.97      0.98       464\n",
      "    Mobile Phone       0.00      0.00      0.00        17\n",
      "   Mobile Phones       0.98      0.99      0.98       795\n",
      "             TVs       0.98      0.99      0.99       724\n",
      "Washing Machines       0.98      0.98      0.98       821\n",
      "          fridge       0.00      0.00      0.00        29\n",
      "\n",
      "        accuracy                           0.93      7020\n",
      "       macro avg       0.73      0.71      0.71      7020\n",
      "    weighted avg       0.93      0.93      0.92      7020\n",
      "\n"
     ]
    },
    {
     "name": "stderr",
     "output_type": "stream",
     "text": [
      "c:\\Users\\silvi\\AppData\\Local\\Programs\\Python\\Python313\\Lib\\site-packages\\sklearn\\metrics\\_classification.py:1731: UndefinedMetricWarning: Precision is ill-defined and being set to 0.0 in labels with no predicted samples. Use `zero_division` parameter to control this behavior.\n",
      "  _warn_prf(average, modifier, f\"{metric.capitalize()} is\", result.shape[0])\n",
      "c:\\Users\\silvi\\AppData\\Local\\Programs\\Python\\Python313\\Lib\\site-packages\\sklearn\\metrics\\_classification.py:1731: UndefinedMetricWarning: Precision is ill-defined and being set to 0.0 in labels with no predicted samples. Use `zero_division` parameter to control this behavior.\n",
      "  _warn_prf(average, modifier, f\"{metric.capitalize()} is\", result.shape[0])\n",
      "c:\\Users\\silvi\\AppData\\Local\\Programs\\Python\\Python313\\Lib\\site-packages\\sklearn\\metrics\\_classification.py:1731: UndefinedMetricWarning: Precision is ill-defined and being set to 0.0 in labels with no predicted samples. Use `zero_division` parameter to control this behavior.\n",
      "  _warn_prf(average, modifier, f\"{metric.capitalize()} is\", result.shape[0])\n"
     ]
    }
   ],
   "source": [
    "y_pred = model.predict(X_test_tfidf)\n",
    "\n",
    "print(\"Accuracy:\", accuracy_score(y_test, y_pred))\n",
    "print(\"\\nRaport de clasificare:\")\n",
    "print(classification_report(y_test, y_pred))\n"
   ]
  },
  {
   "cell_type": "code",
   "execution_count": 8,
   "id": "9864acb5",
   "metadata": {},
   "outputs": [
    {
     "name": "stdout",
     "output_type": "stream",
     "text": [
      "Predicția modelului: Mobile Phones\n"
     ]
    }
   ],
   "source": [
    "# Testare manuală\n",
    "titlu = \"iphone 7 32gb gold\"\n",
    "titlu_tfidf = vectorizer.transform([titlu])\n",
    "categorie_pred = model.predict(titlu_tfidf)\n",
    "print(\"Predicția modelului:\", categorie_pred[0])\n"
   ]
  },
  {
   "cell_type": "markdown",
   "id": "e70e2e52",
   "metadata": {},
   "source": [
    "## Concluzie\n",
    "\n",
    "Modelul Naive Bayes antrenat pe titlurile produselor a obținut o acuratețe de aproximativ X%.\n",
    "Poate fi folosit pentru a sugera automat categoria unui produs nou în funcție de titlu.\n"
   ]
  }
 ],
 "metadata": {
  "kernelspec": {
   "display_name": "Python 3",
   "language": "python",
   "name": "python3"
  },
  "language_info": {
   "codemirror_mode": {
    "name": "ipython",
    "version": 3
   },
   "file_extension": ".py",
   "mimetype": "text/x-python",
   "name": "python",
   "nbconvert_exporter": "python",
   "pygments_lexer": "ipython3",
   "version": "3.13.1"
  }
 },
 "nbformat": 4,
 "nbformat_minor": 5
}
