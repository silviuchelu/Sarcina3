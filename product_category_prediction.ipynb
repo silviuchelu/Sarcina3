{
 "cells": [
  {
   "cell_type": "markdown",
   "id": "120565ab",
   "metadata": {},
   "source": [
    "# Sarcina 3 – Predicția categoriei produsului pe baza titlului\n",
    "\n",
    "Acest notebook prezintă pașii realizați pentru antrenarea unui model de clasificare\n",
    "care prezice categoria unui produs pe baza titlului său, folosind setul de date `IMLP4_TASK_03-products.csv`.\n"
   ]
  },
  {
   "cell_type": "code",
   "execution_count": 1,
   "id": "6ec3130d",
   "metadata": {},
   "outputs": [],
   "source": [
    "import pandas as pd\n",
    "import numpy as np\n",
    "from sklearn.model_selection import train_test_split\n",
    "from sklearn.feature_extraction.text import TfidfVectorizer\n",
    "from sklearn.naive_bayes import MultinomialNB\n",
    "from sklearn.metrics import classification_report, accuracy_score, confusion_matrix\n",
    "import pickle\n"
   ]
  },
  {
   "cell_type": "code",
   "execution_count": 5,
   "id": "929f1345",
   "metadata": {},
   "outputs": [
    {
     "name": "stdout",
     "output_type": "stream",
     "text": [
      "Collecting pandas\n",
      "  Downloading pandas-2.3.3.tar.gz (4.5 MB)\n",
      "     ---------------------------------------- 0.0/4.5 MB ? eta -:--:--\n",
      "     ---------------- ----------------------- 1.8/4.5 MB 15.1 MB/s eta 0:00:01\n",
      "     ---------------------------------------- 4.5/4.5 MB 18.0 MB/s eta 0:00:00\n",
      "  Installing build dependencies: started\n",
      "  Installing build dependencies: finished with status 'done'\n",
      "  Getting requirements to build wheel: started\n",
      "  Getting requirements to build wheel: finished with status 'done'\n",
      "  Installing backend dependencies: started\n",
      "  Installing backend dependencies: finished with status 'done'\n",
      "  Preparing metadata (pyproject.toml): started\n",
      "  Preparing metadata (pyproject.toml): finished with status 'error'\n"
     ]
    },
    {
     "name": "stderr",
     "output_type": "stream",
     "text": [
      "  error: subprocess-exited-with-error\n",
      "  \n",
      "  × Preparing metadata (pyproject.toml) did not run successfully.\n",
      "  │ exit code: 1\n",
      "  ╰─> [23 lines of output]\n",
      "      + meson setup C:\\Users\\silvi\\AppData\\Local\\Temp\\pip-install-ecjwtnij\\pandas_f55690ffe7814c5fa69f8a7f7646b023 C:\\Users\\silvi\\AppData\\Local\\Temp\\pip-install-ecjwtnij\\pandas_f55690ffe7814c5fa69f8a7f7646b023\\.mesonpy-da08zshb -Dbuildtype=release -Db_ndebug=if-release -Db_vscrt=md --vsenv --native-file=C:\\Users\\silvi\\AppData\\Local\\Temp\\pip-install-ecjwtnij\\pandas_f55690ffe7814c5fa69f8a7f7646b023\\.mesonpy-da08zshb\\meson-python-native-file.ini\n",
      "      The Meson build system\n",
      "      Version: 1.9.1\n",
      "      Source dir: C:\\Users\\silvi\\AppData\\Local\\Temp\\pip-install-ecjwtnij\\pandas_f55690ffe7814c5fa69f8a7f7646b023\n",
      "      Build dir: C:\\Users\\silvi\\AppData\\Local\\Temp\\pip-install-ecjwtnij\\pandas_f55690ffe7814c5fa69f8a7f7646b023\\.mesonpy-da08zshb\n",
      "      Build type: native build\n",
      "      Activating VS 17.12.4\n",
      "      Project name: pandas\n",
      "      Project version: 2.3.3\n",
      "      C compiler for the host machine: cl (msvc 19.42.34436 \"Microsoft (R) C/C++ Optimizing Compiler Version 19.42.34436 for x64\")\n",
      "      C linker for the host machine: link link 14.42.34436.0\n",
      "      C++ compiler for the host machine: cl (msvc 19.42.34436 \"Microsoft (R) C/C++ Optimizing Compiler Version 19.42.34436 for x64\")\n",
      "      C++ linker for the host machine: link link 14.42.34436.0\n",
      "      Cython compiler for the host machine: cython (cython 3.2.0)\n",
      "      Host machine cpu family: x86_64\n",
      "      Host machine cpu: x86_64\n",
      "      Program python found: YES (c:\\Users\\silvi\\AppData\\Local\\Programs\\Python\\Python313-32\\python.exe)\n",
      "      Need python for x86_64, but found x86\n",
      "      Run-time dependency python found: NO (tried sysconfig)\n",
      "      \n",
      "      ..\\pandas\\_libs\\tslibs\\meson.build:32:7: ERROR: Python dependency not found\n",
      "      \n",
      "      A full log can be found at C:\\Users\\silvi\\AppData\\Local\\Temp\\pip-install-ecjwtnij\\pandas_f55690ffe7814c5fa69f8a7f7646b023\\.mesonpy-da08zshb\\meson-logs\\meson-log.txt\n",
      "      [end of output]\n",
      "  \n",
      "  note: This error originates from a subprocess, and is likely not a problem with pip.\n",
      "\n",
      "[notice] A new release of pip is available: 25.0.1 -> 25.3\n",
      "[notice] To update, run: python.exe -m pip install --upgrade pip\n",
      "error: metadata-generation-failed\n",
      "\n",
      "× Encountered error while generating package metadata.\n",
      "╰─> See above for output.\n",
      "\n",
      "note: This is an issue with the package mentioned above, not pip.\n",
      "hint: See above for details.\n"
     ]
    }
   ],
   "source": [
    "!python -m pip install pandas numpy scikit-learn jupyter ipykernel matplotlib\n"
   ]
  },
  {
   "cell_type": "code",
   "execution_count": 2,
   "id": "9b9c7fac",
   "metadata": {},
   "outputs": [
    {
     "data": {
      "text/html": [
       "<div>\n",
       "<style scoped>\n",
       "    .dataframe tbody tr th:only-of-type {\n",
       "        vertical-align: middle;\n",
       "    }\n",
       "\n",
       "    .dataframe tbody tr th {\n",
       "        vertical-align: top;\n",
       "    }\n",
       "\n",
       "    .dataframe thead th {\n",
       "        text-align: right;\n",
       "    }\n",
       "</style>\n",
       "<table border=\"1\" class=\"dataframe\">\n",
       "  <thead>\n",
       "    <tr style=\"text-align: right;\">\n",
       "      <th></th>\n",
       "      <th>product ID</th>\n",
       "      <th>Product Title</th>\n",
       "      <th>Merchant ID</th>\n",
       "      <th>Category Label</th>\n",
       "      <th>_Product Code</th>\n",
       "      <th>Number_of_Views</th>\n",
       "      <th>Merchant Rating</th>\n",
       "      <th>Listing Date</th>\n",
       "    </tr>\n",
       "  </thead>\n",
       "  <tbody>\n",
       "    <tr>\n",
       "      <th>0</th>\n",
       "      <td>1</td>\n",
       "      <td>apple iphone 8 plus 64gb silver</td>\n",
       "      <td>1</td>\n",
       "      <td>Mobile Phones</td>\n",
       "      <td>QA-2276-XC</td>\n",
       "      <td>860.0</td>\n",
       "      <td>2.5</td>\n",
       "      <td>5/10/2024</td>\n",
       "    </tr>\n",
       "    <tr>\n",
       "      <th>1</th>\n",
       "      <td>2</td>\n",
       "      <td>apple iphone 8 plus 64 gb spacegrau</td>\n",
       "      <td>2</td>\n",
       "      <td>Mobile Phones</td>\n",
       "      <td>KA-2501-QO</td>\n",
       "      <td>3772.0</td>\n",
       "      <td>4.8</td>\n",
       "      <td>12/31/2024</td>\n",
       "    </tr>\n",
       "    <tr>\n",
       "      <th>2</th>\n",
       "      <td>3</td>\n",
       "      <td>apple mq8n2b/a iphone 8 plus 64gb 5.5 12mp sim...</td>\n",
       "      <td>3</td>\n",
       "      <td>Mobile Phones</td>\n",
       "      <td>FP-8086-IE</td>\n",
       "      <td>3092.0</td>\n",
       "      <td>3.9</td>\n",
       "      <td>11/10/2024</td>\n",
       "    </tr>\n",
       "    <tr>\n",
       "      <th>3</th>\n",
       "      <td>4</td>\n",
       "      <td>apple iphone 8 plus 64gb space grey</td>\n",
       "      <td>4</td>\n",
       "      <td>Mobile Phones</td>\n",
       "      <td>YI-0086-US</td>\n",
       "      <td>466.0</td>\n",
       "      <td>3.4</td>\n",
       "      <td>5/2/2022</td>\n",
       "    </tr>\n",
       "    <tr>\n",
       "      <th>4</th>\n",
       "      <td>5</td>\n",
       "      <td>apple iphone 8 plus gold 5.5 64gb 4g unlocked ...</td>\n",
       "      <td>5</td>\n",
       "      <td>Mobile Phones</td>\n",
       "      <td>NZ-3586-WP</td>\n",
       "      <td>4426.0</td>\n",
       "      <td>1.6</td>\n",
       "      <td>4/12/2023</td>\n",
       "    </tr>\n",
       "  </tbody>\n",
       "</table>\n",
       "</div>"
      ],
      "text/plain": [
       "   product ID                                      Product Title  Merchant ID  \\\n",
       "0           1                    apple iphone 8 plus 64gb silver            1   \n",
       "1           2                apple iphone 8 plus 64 gb spacegrau            2   \n",
       "2           3  apple mq8n2b/a iphone 8 plus 64gb 5.5 12mp sim...            3   \n",
       "3           4                apple iphone 8 plus 64gb space grey            4   \n",
       "4           5  apple iphone 8 plus gold 5.5 64gb 4g unlocked ...            5   \n",
       "\n",
       "   Category Label _Product Code  Number_of_Views  Merchant Rating  \\\n",
       "0   Mobile Phones    QA-2276-XC            860.0              2.5   \n",
       "1   Mobile Phones    KA-2501-QO           3772.0              4.8   \n",
       "2   Mobile Phones    FP-8086-IE           3092.0              3.9   \n",
       "3   Mobile Phones    YI-0086-US            466.0              3.4   \n",
       "4   Mobile Phones    NZ-3586-WP           4426.0              1.6   \n",
       "\n",
       "   Listing Date    \n",
       "0       5/10/2024  \n",
       "1      12/31/2024  \n",
       "2      11/10/2024  \n",
       "3        5/2/2022  \n",
       "4       4/12/2023  "
      ]
     },
     "execution_count": 2,
     "metadata": {},
     "output_type": "execute_result"
    }
   ],
   "source": [
    "# Citește fișierul CSV (ajustează calea dacă e nevoie)\n",
    "data = pd.read_csv(\"IMLP4_TASK_03-products.csv\")\n",
    "\n",
    "# Afișează primele rânduri\n",
    "data.head()\n"
   ]
  },
  {
   "cell_type": "code",
   "execution_count": null,
   "id": "a34657a5",
   "metadata": {},
   "outputs": [
    {
     "name": "stdout",
     "output_type": "stream",
     "text": [
      "<class 'pandas.core.frame.DataFrame'>\n",
      "RangeIndex: 35311 entries, 0 to 35310\n",
      "Data columns (total 8 columns):\n",
      " #   Column           Non-Null Count  Dtype  \n",
      "---  ------           --------------  -----  \n",
      " 0   product ID       35311 non-null  int64  \n",
      " 1   Product Title    35139 non-null  object \n",
      " 2   Merchant ID      35311 non-null  int64  \n",
      " 3    Category Label  35267 non-null  object \n",
      " 4   _Product Code    35216 non-null  object \n",
      " 5   Number_of_Views  35297 non-null  float64\n",
      " 6   Merchant Rating  35141 non-null  float64\n",
      " 7    Listing Date    35252 non-null  object \n",
      "dtypes: float64(2), int64(2), object(4)\n",
      "memory usage: 2.2+ MB\n",
      "None\n"
     ]
    },
    {
     "ename": "KeyError",
     "evalue": "'Category Label'",
     "output_type": "error",
     "traceback": [
      "\u001b[31m---------------------------------------------------------------------------\u001b[39m",
      "\u001b[31mKeyError\u001b[39m                                  Traceback (most recent call last)",
      "\u001b[36mFile \u001b[39m\u001b[32mc:\\Users\\silvi\\AppData\\Local\\Programs\\Python\\Python313\\Lib\\site-packages\\pandas\\core\\indexes\\base.py:3805\u001b[39m, in \u001b[36mIndex.get_loc\u001b[39m\u001b[34m(self, key)\u001b[39m\n\u001b[32m   3804\u001b[39m \u001b[38;5;28;01mtry\u001b[39;00m:\n\u001b[32m-> \u001b[39m\u001b[32m3805\u001b[39m     \u001b[38;5;28;01mreturn\u001b[39;00m \u001b[38;5;28;43mself\u001b[39;49m\u001b[43m.\u001b[49m\u001b[43m_engine\u001b[49m\u001b[43m.\u001b[49m\u001b[43mget_loc\u001b[49m\u001b[43m(\u001b[49m\u001b[43mcasted_key\u001b[49m\u001b[43m)\u001b[49m\n\u001b[32m   3806\u001b[39m \u001b[38;5;28;01mexcept\u001b[39;00m \u001b[38;5;167;01mKeyError\u001b[39;00m \u001b[38;5;28;01mas\u001b[39;00m err:\n",
      "\u001b[36mFile \u001b[39m\u001b[32mindex.pyx:167\u001b[39m, in \u001b[36mpandas._libs.index.IndexEngine.get_loc\u001b[39m\u001b[34m()\u001b[39m\n",
      "\u001b[36mFile \u001b[39m\u001b[32mindex.pyx:196\u001b[39m, in \u001b[36mpandas._libs.index.IndexEngine.get_loc\u001b[39m\u001b[34m()\u001b[39m\n",
      "\u001b[36mFile \u001b[39m\u001b[32mpandas\\\\_libs\\\\hashtable_class_helper.pxi:7081\u001b[39m, in \u001b[36mpandas._libs.hashtable.PyObjectHashTable.get_item\u001b[39m\u001b[34m()\u001b[39m\n",
      "\u001b[36mFile \u001b[39m\u001b[32mpandas\\\\_libs\\\\hashtable_class_helper.pxi:7089\u001b[39m, in \u001b[36mpandas._libs.hashtable.PyObjectHashTable.get_item\u001b[39m\u001b[34m()\u001b[39m\n",
      "\u001b[31mKeyError\u001b[39m: 'Category Label'",
      "\nThe above exception was the direct cause of the following exception:\n",
      "\u001b[31mKeyError\u001b[39m                                  Traceback (most recent call last)",
      "\u001b[36mCell\u001b[39m\u001b[36m \u001b[39m\u001b[32mIn[3]\u001b[39m\u001b[32m, line 2\u001b[39m\n\u001b[32m      1\u001b[39m \u001b[38;5;28mprint\u001b[39m(data.info())\n\u001b[32m----> \u001b[39m\u001b[32m2\u001b[39m \u001b[38;5;28mprint\u001b[39m(\u001b[43mdata\u001b[49m\u001b[43m[\u001b[49m\u001b[33;43m\"\u001b[39;49m\u001b[33;43mCategory Label\u001b[39;49m\u001b[33;43m\"\u001b[39;49m\u001b[43m]\u001b[49m.value_counts().head(\u001b[32m10\u001b[39m))\n",
      "\u001b[36mFile \u001b[39m\u001b[32mc:\\Users\\silvi\\AppData\\Local\\Programs\\Python\\Python313\\Lib\\site-packages\\pandas\\core\\frame.py:4102\u001b[39m, in \u001b[36mDataFrame.__getitem__\u001b[39m\u001b[34m(self, key)\u001b[39m\n\u001b[32m   4100\u001b[39m \u001b[38;5;28;01mif\u001b[39;00m \u001b[38;5;28mself\u001b[39m.columns.nlevels > \u001b[32m1\u001b[39m:\n\u001b[32m   4101\u001b[39m     \u001b[38;5;28;01mreturn\u001b[39;00m \u001b[38;5;28mself\u001b[39m._getitem_multilevel(key)\n\u001b[32m-> \u001b[39m\u001b[32m4102\u001b[39m indexer = \u001b[38;5;28;43mself\u001b[39;49m\u001b[43m.\u001b[49m\u001b[43mcolumns\u001b[49m\u001b[43m.\u001b[49m\u001b[43mget_loc\u001b[49m\u001b[43m(\u001b[49m\u001b[43mkey\u001b[49m\u001b[43m)\u001b[49m\n\u001b[32m   4103\u001b[39m \u001b[38;5;28;01mif\u001b[39;00m is_integer(indexer):\n\u001b[32m   4104\u001b[39m     indexer = [indexer]\n",
      "\u001b[36mFile \u001b[39m\u001b[32mc:\\Users\\silvi\\AppData\\Local\\Programs\\Python\\Python313\\Lib\\site-packages\\pandas\\core\\indexes\\base.py:3812\u001b[39m, in \u001b[36mIndex.get_loc\u001b[39m\u001b[34m(self, key)\u001b[39m\n\u001b[32m   3807\u001b[39m     \u001b[38;5;28;01mif\u001b[39;00m \u001b[38;5;28misinstance\u001b[39m(casted_key, \u001b[38;5;28mslice\u001b[39m) \u001b[38;5;129;01mor\u001b[39;00m (\n\u001b[32m   3808\u001b[39m         \u001b[38;5;28misinstance\u001b[39m(casted_key, abc.Iterable)\n\u001b[32m   3809\u001b[39m         \u001b[38;5;129;01mand\u001b[39;00m \u001b[38;5;28many\u001b[39m(\u001b[38;5;28misinstance\u001b[39m(x, \u001b[38;5;28mslice\u001b[39m) \u001b[38;5;28;01mfor\u001b[39;00m x \u001b[38;5;129;01min\u001b[39;00m casted_key)\n\u001b[32m   3810\u001b[39m     ):\n\u001b[32m   3811\u001b[39m         \u001b[38;5;28;01mraise\u001b[39;00m InvalidIndexError(key)\n\u001b[32m-> \u001b[39m\u001b[32m3812\u001b[39m     \u001b[38;5;28;01mraise\u001b[39;00m \u001b[38;5;167;01mKeyError\u001b[39;00m(key) \u001b[38;5;28;01mfrom\u001b[39;00m\u001b[38;5;250m \u001b[39m\u001b[34;01merr\u001b[39;00m\n\u001b[32m   3813\u001b[39m \u001b[38;5;28;01mexcept\u001b[39;00m \u001b[38;5;167;01mTypeError\u001b[39;00m:\n\u001b[32m   3814\u001b[39m     \u001b[38;5;66;03m# If we have a listlike key, _check_indexing_error will raise\u001b[39;00m\n\u001b[32m   3815\u001b[39m     \u001b[38;5;66;03m#  InvalidIndexError. Otherwise we fall through and re-raise\u001b[39;00m\n\u001b[32m   3816\u001b[39m     \u001b[38;5;66;03m#  the TypeError.\u001b[39;00m\n\u001b[32m   3817\u001b[39m     \u001b[38;5;28mself\u001b[39m._check_indexing_error(key)\n",
      "\u001b[31mKeyError\u001b[39m: 'Category Label'"
     ]
    }
   ],
   "source": [
    "# Curăță spațiile din numele coloanelor\n",
    "data.columns = data.columns.str.strip()\n",
    "\n",
    "# Verifică dacă numele sunt corecte\n",
    "print(data.columns)\n",
    "\n",
    "# Acum funcționează fără eroare\n",
    "print(data.info())\n",
    "print(data[\"Category Label\"].value_counts().head(10))\n"
   ]
  },
  {
   "cell_type": "code",
   "execution_count": null,
   "id": "02e4b2b5",
   "metadata": {},
   "outputs": [],
   "source": [
    "# Păstrăm doar coloanele relevante\n",
    "df = data[[\"Product Title\", \"Category Label\"]].dropna()\n",
    "\n",
    "# Separăm datele de antrenament și test\n",
    "X_train, X_test, y_train, y_test = train_test_split(\n",
    "    df[\"Product Title\"], df[\"Category Label\"], test_size=0.2, random_state=42\n",
    ")\n",
    "\n",
    "# Vectorizare TF-IDF\n",
    "vectorizer = TfidfVectorizer(stop_words=\"english\", lowercase=True)\n",
    "X_train_tfidf = vectorizer.fit_transform(X_train)\n",
    "X_test_tfidf = vectorizer.transform(X_test)\n"
   ]
  },
  {
   "cell_type": "code",
   "execution_count": null,
   "id": "3c12d6cf",
   "metadata": {},
   "outputs": [],
   "source": [
    "model = MultinomialNB()\n",
    "model.fit(X_train_tfidf, y_train)\n",
    "\n",
    "# Salvare model și vectorizator\n",
    "pickle.dump(model, open(\"product_model.pkl\", \"wb\"))\n",
    "pickle.dump(vectorizer, open(\"vectorizer.pkl\", \"wb\"))\n"
   ]
  },
  {
   "cell_type": "code",
   "execution_count": null,
   "id": "14084a67",
   "metadata": {},
   "outputs": [],
   "source": [
    "y_pred = model.predict(X_test_tfidf)\n",
    "\n",
    "print(\"Accuracy:\", accuracy_score(y_test, y_pred))\n",
    "print(\"\\nRaport de clasificare:\")\n",
    "print(classification_report(y_test, y_pred))\n"
   ]
  },
  {
   "cell_type": "code",
   "execution_count": null,
   "id": "9864acb5",
   "metadata": {},
   "outputs": [],
   "source": [
    "# Testare manuală\n",
    "titlu = \"iphone 7 32gb gold\"\n",
    "titlu_tfidf = vectorizer.transform([titlu])\n",
    "categorie_pred = model.predict(titlu_tfidf)\n",
    "print(\"Predicția modelului:\", categorie_pred[0])\n"
   ]
  },
  {
   "cell_type": "markdown",
   "id": "e70e2e52",
   "metadata": {},
   "source": [
    "## Concluzie\n",
    "\n",
    "Modelul Naive Bayes antrenat pe titlurile produselor a obținut o acuratețe de aproximativ X%.\n",
    "Poate fi folosit pentru a sugera automat categoria unui produs nou în funcție de titlu.\n"
   ]
  }
 ],
 "metadata": {
  "kernelspec": {
   "display_name": "Python 3",
   "language": "python",
   "name": "python3"
  },
  "language_info": {
   "codemirror_mode": {
    "name": "ipython",
    "version": 3
   },
   "file_extension": ".py",
   "mimetype": "text/x-python",
   "name": "python",
   "nbconvert_exporter": "python",
   "pygments_lexer": "ipython3",
   "version": "3.13.1"
  }
 },
 "nbformat": 4,
 "nbformat_minor": 5
}
